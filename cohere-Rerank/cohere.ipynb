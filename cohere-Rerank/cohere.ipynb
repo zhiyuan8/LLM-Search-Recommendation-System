{
 "cells": [
  {
   "cell_type": "code",
   "execution_count": 14,
   "metadata": {},
   "outputs": [],
   "source": [
    "import cohere\n",
    "from dotenv import load_dotenv\n",
    "import os\n",
    "from pprint import pprint\n",
    "\n",
    "load_dotenv()\n",
    "cohere_api_key = os.environ.get('COHERE_API_KEY')"
   ]
  },
  {
   "cell_type": "code",
   "execution_count": 15,
   "metadata": {},
   "outputs": [],
   "source": [
    "item = {\n",
    "    \"query\": \"fireflies ai\",\n",
    "    \"hits\": [\n",
    "        {\n",
    "            \"content\": \"Product Name: FireTexts. Description: FireTexts is an AI-driven app that generates perfect text messages for various situations, offering speed, impact, and customization. Characteristics: ['AI-Generated Texts: Creates perfect texts for any situation using AI.', 'Fully Customizable: Allows adding context for personalized messages.', 'Lightning Fast: Utilizes GPT-4 for quick text generation.', 'Sleek Design: Intuitive, user-friendly interface with minimal storage requirements.']. Use Cases: ['Birthday Wishes', 'Thank You Notes', 'Flirting Messages', 'Rejection Texts'].\"\n",
    "        },\n",
    "        # voice analysis\n",
    "        {\n",
    "            \"content\": \"Product Name: Fireflies.ai. Description: Fireflies.ai provides tools for recording, transcribing, summarizing, and analyzing voice conversations, streamlining meeting workflows.. Characteristics: ['AI-Powered Search: Quickly filter and find topics within your meetings.', 'Automatic Transcription: Capture and transcribe meetings across various platforms.', 'Conversation Intelligence: Track talk time, sentiment, and custom metrics for enhanced team performance.', 'Workflow Automation: Fireflies.ai logs call notes and tasks in CRM and collaboration tools.']. Use Cases: ['Meeting Transcription', 'Conversation Analysis', 'CRM Integration', 'Team Collaboration'].\"\n",
    "        },\n",
    "        # image generation\n",
    "        {\n",
    "            \"content\": \"Product Name: Adobe Firefly. Description: Adobe Firefly is a creative generative AI for endless image creation, enhancing creative workflows with generative AI tools.. Characteristics: ['Generative AI-Powered Content: Quickly generates images and text effects using simple prompts in over 100 languages.', 'Creative Workflow Enhancement: Integrated into Adobe Creative Cloud, improving creative processes with AI tools.', 'Ethical AI Development: Committed to responsible AI use, with creators at the center of its design and application.', 'Commercial Use Option: Allows creators to use content generated in Firefly commercially, acknowledging creators' practical needs.']. Use Cases: ['Text to Image Transformation', 'Generative Content Fill', 'Text Effects Application', 'Generative Recoloring'].\"\n",
    "        },\n",
    "        # \n",
    "        {\n",
    "            \"content\": \"Product Name: Fireworks. Description: Fireworks is a Generative AI platform focused on product innovation, offering OSS model deployment, fast inference, low costs, and comprehensive support.. Characteristics: ['Fast Model Inference: Ensures quick and reliable model inference, boosting operational efficiency.', 'OSS Model Support: Provides extensive support for open-source software models, fostering innovation.', 'Cost-Effective Solutions: Offers low-cost options without compromising on quality or speed.', 'Comprehensive Support: Delivers exceptional support for inference, fine-tuning, and OSS LLMs integration.']. Use Cases: ['OSS Model Deployment', 'Inference Speed Boost', 'Cost Reduction', 'Productivity Improvement'].\"\n",
    "        },\n",
    "    ],\n",
    "}"
   ]
  },
  {
   "cell_type": "markdown",
   "metadata": {},
   "source": [
    "## Test title matching performace"
   ]
  },
  {
   "cell_type": "code",
   "execution_count": 22,
   "metadata": {},
   "outputs": [
    {
     "name": "stdout",
     "output_type": "stream",
     "text": [
      "Time taken: 0.11691403388977051\n"
     ]
    }
   ],
   "source": [
    "import time\n",
    "from pprint import pprint\n",
    "# Get your cohere API key on: www.cohere.com\n",
    "co = cohere.Client(f'{cohere_api_key}')\n",
    "\n",
    "item[\"query\"] = \"fireflies ai\"\n",
    "documents = [x[\"content\"] for x in item[\"hits\"]]\n",
    "\n",
    "start_time = time.time()\n",
    "results = co.rerank(query=item[\"query\"], documents=documents, top_n=3, model=\"rerank-multilingual-v2.0\")\n",
    "print(f\"Time taken: {time.time() - start_time}\")"
   ]
  },
  {
   "cell_type": "code",
   "execution_count": 23,
   "metadata": {},
   "outputs": [
    {
     "name": "stdout",
     "output_type": "stream",
     "text": [
      "[RerankResult<document['text']: Product Name: Fireflies.ai. Description: Fireflies.ai provides tools for recording, transcribing, summarizing, and analyzing voice conversations, streamlining meeting workflows.. Characteristics: ['AI-Powered Search: Quickly filter and find topics within your meetings.', 'Automatic Transcription: Capture and transcribe meetings across various platforms.', 'Conversation Intelligence: Track talk time, sentiment, and custom metrics for enhanced team performance.', 'Workflow Automation: Fireflies.ai logs call notes and tasks in CRM and collaboration tools.']. Use Cases: ['Meeting Transcription', 'Conversation Analysis', 'CRM Integration', 'Team Collaboration']., index: 1, relevance_score: 0.9999996>, RerankResult<document['text']: Product Name: Adobe Firefly. Description: Adobe Firefly is a creative generative AI for endless image creation, enhancing creative workflows with generative AI tools.. Characteristics: ['Generative AI-Powered Content: Quickly generates images and text effects using simple prompts in over 100 languages.', 'Creative Workflow Enhancement: Integrated into Adobe Creative Cloud, improving creative processes with AI tools.', 'Ethical AI Development: Committed to responsible AI use, with creators at the center of its design and application.', 'Commercial Use Option: Allows creators to use content generated in Firefly commercially, acknowledging creators' practical needs.']. Use Cases: ['Text to Image Transformation', 'Generative Content Fill', 'Text Effects Application', 'Generative Recoloring']., index: 2, relevance_score: 0.99997354>, RerankResult<document['text']: Product Name: Fireworks. Description: Fireworks is a Generative AI platform focused on product innovation, offering OSS model deployment, fast inference, low costs, and comprehensive support.. Characteristics: ['Fast Model Inference: Ensures quick and reliable model inference, boosting operational efficiency.', 'OSS Model Support: Provides extensive support for open-source software models, fostering innovation.', 'Cost-Effective Solutions: Offers low-cost options without compromising on quality or speed.', 'Comprehensive Support: Delivers exceptional support for inference, fine-tuning, and OSS LLMs integration.']. Use Cases: ['OSS Model Deployment', 'Inference Speed Boost', 'Cost Reduction', 'Productivity Improvement']., index: 3, relevance_score: 0.43578145>]\n"
     ]
    }
   ],
   "source": [
    "pprint(results)"
   ]
  },
  {
   "cell_type": "markdown",
   "metadata": {},
   "source": [
    "## test category search performance"
   ]
  },
  {
   "cell_type": "code",
   "execution_count": 26,
   "metadata": {},
   "outputs": [
    {
     "name": "stdout",
     "output_type": "stream",
     "text": [
      "Time taken: 0.12531566619873047\n"
     ]
    }
   ],
   "source": [
    "item[\"query\"] = \"image generation for ecommerce\"\n",
    "\n",
    "start_time = time.time()\n",
    "results = co.rerank(query=item[\"query\"], documents=documents, top_n=3, model=\"rerank-multilingual-v2.0\")\n",
    "print(f\"Time taken: {time.time() - start_time}\")"
   ]
  },
  {
   "cell_type": "code",
   "execution_count": 25,
   "metadata": {},
   "outputs": [
    {
     "name": "stdout",
     "output_type": "stream",
     "text": [
      "[RerankResult<document['text']: Product Name: Adobe Firefly. Description: Adobe Firefly is a creative generative AI for endless image creation, enhancing creative workflows with generative AI tools.. Characteristics: ['Generative AI-Powered Content: Quickly generates images and text effects using simple prompts in over 100 languages.', 'Creative Workflow Enhancement: Integrated into Adobe Creative Cloud, improving creative processes with AI tools.', 'Ethical AI Development: Committed to responsible AI use, with creators at the center of its design and application.', 'Commercial Use Option: Allows creators to use content generated in Firefly commercially, acknowledging creators' practical needs.']. Use Cases: ['Text to Image Transformation', 'Generative Content Fill', 'Text Effects Application', 'Generative Recoloring']., index: 2, relevance_score: 0.0020033333>, RerankResult<document['text']: Product Name: Fireworks. Description: Fireworks is a Generative AI platform focused on product innovation, offering OSS model deployment, fast inference, low costs, and comprehensive support.. Characteristics: ['Fast Model Inference: Ensures quick and reliable model inference, boosting operational efficiency.', 'OSS Model Support: Provides extensive support for open-source software models, fostering innovation.', 'Cost-Effective Solutions: Offers low-cost options without compromising on quality or speed.', 'Comprehensive Support: Delivers exceptional support for inference, fine-tuning, and OSS LLMs integration.']. Use Cases: ['OSS Model Deployment', 'Inference Speed Boost', 'Cost Reduction', 'Productivity Improvement']., index: 3, relevance_score: 9.895332e-06>, RerankResult<document['text']: Product Name: Fireflies.ai. Description: Fireflies.ai provides tools for recording, transcribing, summarizing, and analyzing voice conversations, streamlining meeting workflows.. Characteristics: ['AI-Powered Search: Quickly filter and find topics within your meetings.', 'Automatic Transcription: Capture and transcribe meetings across various platforms.', 'Conversation Intelligence: Track talk time, sentiment, and custom metrics for enhanced team performance.', 'Workflow Automation: Fireflies.ai logs call notes and tasks in CRM and collaboration tools.']. Use Cases: ['Meeting Transcription', 'Conversation Analysis', 'CRM Integration', 'Team Collaboration']., index: 1, relevance_score: 4.0294567e-06>]\n"
     ]
    }
   ],
   "source": [
    "pprint(results)"
   ]
  },
  {
   "cell_type": "markdown",
   "metadata": {},
   "source": [
    "## test complicated search performance"
   ]
  },
  {
   "cell_type": "code",
   "execution_count": 27,
   "metadata": {},
   "outputs": [
    {
     "name": "stdout",
     "output_type": "stream",
     "text": [
      "Time taken: 0.14108896255493164\n"
     ]
    }
   ],
   "source": [
    "item[\"query\"] = \"tell me a deployment ai solution to speep up my inference\"\n",
    "\n",
    "start_time = time.time()\n",
    "results = co.rerank(query=item[\"query\"], documents=documents, top_n=3, model=\"rerank-multilingual-v2.0\")\n",
    "print(f\"Time taken: {time.time() - start_time}\")"
   ]
  },
  {
   "cell_type": "code",
   "execution_count": 28,
   "metadata": {},
   "outputs": [
    {
     "name": "stdout",
     "output_type": "stream",
     "text": [
      "[RerankResult<document['text']: Product Name: Fireworks. Description: Fireworks is a Generative AI platform focused on product innovation, offering OSS model deployment, fast inference, low costs, and comprehensive support.. Characteristics: ['Fast Model Inference: Ensures quick and reliable model inference, boosting operational efficiency.', 'OSS Model Support: Provides extensive support for open-source software models, fostering innovation.', 'Cost-Effective Solutions: Offers low-cost options without compromising on quality or speed.', 'Comprehensive Support: Delivers exceptional support for inference, fine-tuning, and OSS LLMs integration.']. Use Cases: ['OSS Model Deployment', 'Inference Speed Boost', 'Cost Reduction', 'Productivity Improvement']., index: 3, relevance_score: 0.19421494>, RerankResult<document['text']: Product Name: Fireflies.ai. Description: Fireflies.ai provides tools for recording, transcribing, summarizing, and analyzing voice conversations, streamlining meeting workflows.. Characteristics: ['AI-Powered Search: Quickly filter and find topics within your meetings.', 'Automatic Transcription: Capture and transcribe meetings across various platforms.', 'Conversation Intelligence: Track talk time, sentiment, and custom metrics for enhanced team performance.', 'Workflow Automation: Fireflies.ai logs call notes and tasks in CRM and collaboration tools.']. Use Cases: ['Meeting Transcription', 'Conversation Analysis', 'CRM Integration', 'Team Collaboration']., index: 1, relevance_score: 1.3391991e-06>, RerankResult<document['text']: Product Name: Adobe Firefly. Description: Adobe Firefly is a creative generative AI for endless image creation, enhancing creative workflows with generative AI tools.. Characteristics: ['Generative AI-Powered Content: Quickly generates images and text effects using simple prompts in over 100 languages.', 'Creative Workflow Enhancement: Integrated into Adobe Creative Cloud, improving creative processes with AI tools.', 'Ethical AI Development: Committed to responsible AI use, with creators at the center of its design and application.', 'Commercial Use Option: Allows creators to use content generated in Firefly commercially, acknowledging creators' practical needs.']. Use Cases: ['Text to Image Transformation', 'Generative Content Fill', 'Text Effects Application', 'Generative Recoloring']., index: 2, relevance_score: 4.812517e-07>]\n"
     ]
    }
   ],
   "source": [
    "pprint(results)"
   ]
  }
 ],
 "metadata": {
  "kernelspec": {
   "display_name": "pytorch",
   "language": "python",
   "name": "python3"
  },
  "language_info": {
   "codemirror_mode": {
    "name": "ipython",
    "version": 3
   },
   "file_extension": ".py",
   "mimetype": "text/x-python",
   "name": "python",
   "nbconvert_exporter": "python",
   "pygments_lexer": "ipython3",
   "version": "3.9.18"
  }
 },
 "nbformat": 4,
 "nbformat_minor": 2
}
