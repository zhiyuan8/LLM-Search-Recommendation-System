{
 "cells": [
  {
   "cell_type": "code",
   "execution_count": 15,
   "metadata": {},
   "outputs": [],
   "source": [
    "import time\n",
    "\n",
    "item = {\n",
    "    \"query\": \"fireflies ai\",\n",
    "    \"hits\": [\n",
    "        # text message generation\n",
    "        {\n",
    "            \"content\": \"FireTexts is an AI-driven app that generates perfect text messages for various situations, offering speed, impact, and customization.\"\n",
    "        },\n",
    "        # voice analysis\n",
    "        {\n",
    "            \"content\": \"Product Name: Fireflies.ai. Description: Fireflies.ai provides tools for recording, transcribing, summarizing, and analyzing voice conversations, streamlining meeting workflows.. Characteristics: ['AI-Powered Search: Quickly filter and find topics within your meetings.', 'Automatic Transcription: Capture and transcribe meetings across various platforms.', 'Conversation Intelligence: Track talk time, sentiment, and custom metrics for enhanced team performance.', 'Workflow Automation: Fireflies.ai logs call notes and tasks in CRM and collaboration tools.']. Use Cases: ['Meeting Transcription', 'Conversation Analysis', 'CRM Integration', 'Team Collaboration'].\"\n",
    "        },\n",
    "        # image generation\n",
    "        {\n",
    "            \"content\": \"Product Name: Adobe Firefly. Description: Adobe Firefly is a creative generative AI for endless image creation, enhancing creative workflows with generative AI tools.. Characteristics: ['Generative AI-Powered Content: Quickly generates images and text effects using simple prompts in over 100 languages.', 'Creative Workflow Enhancement: Integrated into Adobe Creative Cloud, improving creative processes with AI tools.', 'Ethical AI Development: Committed to responsible AI use, with creators at the center of its design and application.', 'Commercial Use Option: Allows creators to use content generated in Firefly commercially, acknowledging creators' practical needs.']. Use Cases: ['Text to Image Transformation', 'Generative Content Fill', 'Text Effects Application', 'Generative Recoloring'].\"\n",
    "        },\n",
    "        # \n",
    "        {\n",
    "            \"content\": \"Product Name: Fireworks. Description: Fireworks is a Generative AI platform focused on product innovation, offering OSS model deployment, fast inference, low costs, and comprehensive support.. Characteristics: ['Fast Model Inference: Ensures quick and reliable model inference, boosting operational efficiency.', 'OSS Model Support: Provides extensive support for open-source software models, fostering innovation.', 'Cost-Effective Solutions: Offers low-cost options without compromising on quality or speed.', 'Comprehensive Support: Delivers exceptional support for inference, fine-tuning, and OSS LLMs integration.']. Use Cases: ['OSS Model Deployment', 'Inference Speed Boost', 'Cost Reduction', 'Productivity Improvement'].\"\n",
    "        },\n",
    "    ],\n",
    "}\n"
   ]
  },
  {
   "cell_type": "code",
   "execution_count": 16,
   "metadata": {},
   "outputs": [],
   "source": [
    "from rank_gpt import permutation_pipeline\n",
    "import os\n",
    "from dotenv import load_dotenv\n",
    "\n",
    "load_dotenv()\n",
    "openai_api_key = os.getenv(\"OPENAI_API_KEY\")"
   ]
  },
  {
   "cell_type": "markdown",
   "metadata": {},
   "source": [
    "## Test title matching performace"
   ]
  },
  {
   "cell_type": "code",
   "execution_count": 17,
   "metadata": {},
   "outputs": [
    {
     "name": "stdout",
     "output_type": "stream",
     "text": [
      "===messages===\n",
      " [{'role': 'system', 'content': 'You are RankGPT, an intelligent assistant that can rank passages based on their relevancy to the query.'}, {'role': 'user', 'content': 'I will provide you with 3 passages, each indicated by number identifier []. \\nRank the passages based on their relevance to query: fireflies ai.'}, {'role': 'assistant', 'content': 'Okay, please provide the passages.'}, {'role': 'user', 'content': '[1] FireTexts is an AI-driven app that generates perfect text messages for various situations, offering speed, impact, and customization.'}, {'role': 'assistant', 'content': 'Received passage [1].'}, {'role': 'user', 'content': \"[2] Product Name: Fireflies.ai. Description: Fireflies.ai provides tools for recording, transcribing, summarizing, and analyzing voice conversations, streamlining meeting workflows.. Characteristics: ['AI-Powered Search: Quickly filter and find topics within your meetings.', 'Automatic Transcription: Capture and transcribe meetings across various platforms.', 'Conversation Intelligence: Track talk time, sentiment, and custom metrics for enhanced team performance.', 'Workflow Automation: Fireflies.ai logs call notes and tasks in CRM and collaboration tools.']. Use Cases: ['Meeting Transcription', 'Conversation Analysis', 'CRM Integration', 'Team Collaboration'].\"}, {'role': 'assistant', 'content': 'Received passage [2].'}, {'role': 'user', 'content': \"[3] Product Name: Adobe Firefly. Description: Adobe Firefly is a creative generative AI for endless image creation, enhancing creative workflows with generative AI tools.. Characteristics: ['Generative AI-Powered Content: Quickly generates images and text effects using simple prompts in over 100 languages.', 'Creative Workflow Enhancement: Integrated into Adobe Creative Cloud, improving creative processes with AI tools.', 'Ethical AI Development: Committed to responsible AI use, with creators at the center of its design and application.', 'Commercial Use Option: Allows creators to use content generated in Firefly commercially, acknowledging creators' practical needs.']. Use Cases: ['Text to Image Transformation', 'Generative Content Fill', 'Text Effects Application', 'Generative Recoloring'].\"}, {'role': 'assistant', 'content': 'Received passage [3].'}, {'role': 'user', 'content': 'Search Query: fireflies ai. \\nRank the 3 passages above based on their relevance to the search query. The passages should be listed in descending order using identifiers. The most relevant passages should be listed first. The output format should be [] > [], e.g., [1] > [2]. Only response the ranking results, do not say any word or explain.'}]\n",
      "===permutation===\n",
      " [2] > [1] > [3]\n",
      "===item===\n",
      " {'query': 'fireflies ai', 'hits': [{'content': \"Product Name: Fireflies.ai. Description: Fireflies.ai provides tools for recording, transcribing, summarizing, and analyzing voice conversations, streamlining meeting workflows.. Characteristics: ['AI-Powered Search: Quickly filter and find topics within your meetings.', 'Automatic Transcription: Capture and transcribe meetings across various platforms.', 'Conversation Intelligence: Track talk time, sentiment, and custom metrics for enhanced team performance.', 'Workflow Automation: Fireflies.ai logs call notes and tasks in CRM and collaboration tools.']. Use Cases: ['Meeting Transcription', 'Conversation Analysis', 'CRM Integration', 'Team Collaboration'].\"}, {'content': 'FireTexts is an AI-driven app that generates perfect text messages for various situations, offering speed, impact, and customization.'}, {'content': \"Product Name: Adobe Firefly. Description: Adobe Firefly is a creative generative AI for endless image creation, enhancing creative workflows with generative AI tools.. Characteristics: ['Generative AI-Powered Content: Quickly generates images and text effects using simple prompts in over 100 languages.', 'Creative Workflow Enhancement: Integrated into Adobe Creative Cloud, improving creative processes with AI tools.', 'Ethical AI Development: Committed to responsible AI use, with creators at the center of its design and application.', 'Commercial Use Option: Allows creators to use content generated in Firefly commercially, acknowledging creators' practical needs.']. Use Cases: ['Text to Image Transformation', 'Generative Content Fill', 'Text Effects Application', 'Generative Recoloring'].\"}, {'content': \"Product Name: Fireworks. Description: Fireworks is a Generative AI platform focused on product innovation, offering OSS model deployment, fast inference, low costs, and comprehensive support.. Characteristics: ['Fast Model Inference: Ensures quick and reliable model inference, boosting operational efficiency.', 'OSS Model Support: Provides extensive support for open-source software models, fostering innovation.', 'Cost-Effective Solutions: Offers low-cost options without compromising on quality or speed.', 'Comprehensive Support: Delivers exceptional support for inference, fine-tuning, and OSS LLMs integration.']. Use Cases: ['OSS Model Deployment', 'Inference Speed Boost', 'Cost Reduction', 'Productivity Improvement'].\"}]}\n"
     ]
    }
   ],
   "source": [
    "from rank_gpt import create_permutation_instruction, run_llm, receive_permutation\n",
    "\n",
    "item[\"query\"] = \"fireflies ai\"\n",
    "\n",
    "    \n",
    "rank_start = 0\n",
    "rank_end = 3\n",
    "# (1) Create permutation generation instruction\n",
    "messages = create_permutation_instruction(\n",
    "    item=item, rank_start=rank_start, rank_end=rank_end, model_name=\"gpt-3.5-turbo\"\n",
    ")\n",
    "print(\"===messages===\\n\", messages)\n",
    "\n",
    "# (2) Get ChatGPT predicted permutation\n",
    "permutation = run_llm(messages, api_key=openai_api_key, model_name=\"gpt-3.5-turbo\")\n",
    "print(\"===permutation===\\n\", permutation)\n",
    "\n",
    "# (3) Use permutation to re-rank the passage\n",
    "item = receive_permutation(item, permutation, rank_start=rank_start, rank_end=rank_end)\n",
    "print(\"===item===\\n\", item)"
   ]
  },
  {
   "cell_type": "markdown",
   "metadata": {},
   "source": [
    "## test semantic search performance"
   ]
  },
  {
   "cell_type": "code",
   "execution_count": 20,
   "metadata": {},
   "outputs": [
    {
     "name": "stdout",
     "output_type": "stream",
     "text": [
      "===messages===\n",
      " [{'role': 'system', 'content': 'You are RankGPT, an intelligent assistant that can rank passages based on their relevancy to the query.'}, {'role': 'user', 'content': 'I will provide you with 3 passages, each indicated by number identifier []. \\nRank the passages based on their relevance to query: image generation for ecommerce.'}, {'role': 'assistant', 'content': 'Okay, please provide the passages.'}, {'role': 'user', 'content': \"[1] Product Name: Fireflies.ai. Description: Fireflies.ai provides tools for recording, transcribing, summarizing, and analyzing voice conversations, streamlining meeting workflows.. Characteristics: ['AI-Powered Search: Quickly filter and find topics within your meetings.', 'Automatic Transcription: Capture and transcribe meetings across various platforms.', 'Conversation Intelligence: Track talk time, sentiment, and custom metrics for enhanced team performance.', 'Workflow Automation: Fireflies.ai logs call notes and tasks in CRM and collaboration tools.']. Use Cases: ['Meeting Transcription', 'Conversation Analysis', 'CRM Integration', 'Team Collaboration'].\"}, {'role': 'assistant', 'content': 'Received passage [1].'}, {'role': 'user', 'content': '[2] FireTexts is an AI-driven app that generates perfect text messages for various situations, offering speed, impact, and customization.'}, {'role': 'assistant', 'content': 'Received passage [2].'}, {'role': 'user', 'content': \"[3] Product Name: Adobe Firefly. Description: Adobe Firefly is a creative generative AI for endless image creation, enhancing creative workflows with generative AI tools.. Characteristics: ['Generative AI-Powered Content: Quickly generates images and text effects using simple prompts in over 100 languages.', 'Creative Workflow Enhancement: Integrated into Adobe Creative Cloud, improving creative processes with AI tools.', 'Ethical AI Development: Committed to responsible AI use, with creators at the center of its design and application.', 'Commercial Use Option: Allows creators to use content generated in Firefly commercially, acknowledging creators' practical needs.']. Use Cases: ['Text to Image Transformation', 'Generative Content Fill', 'Text Effects Application', 'Generative Recoloring'].\"}, {'role': 'assistant', 'content': 'Received passage [3].'}, {'role': 'user', 'content': 'Search Query: image generation for ecommerce. \\nRank the 3 passages above based on their relevance to the search query. The passages should be listed in descending order using identifiers. The most relevant passages should be listed first. The output format should be [] > [], e.g., [1] > [2]. Only response the ranking results, do not say any word or explain.'}]\n",
      "===permutation===\n",
      " [3] > [1] > [2]\n",
      "===item===\n",
      " {'query': 'image generation for ecommerce', 'hits': [{'content': \"Product Name: Adobe Firefly. Description: Adobe Firefly is a creative generative AI for endless image creation, enhancing creative workflows with generative AI tools.. Characteristics: ['Generative AI-Powered Content: Quickly generates images and text effects using simple prompts in over 100 languages.', 'Creative Workflow Enhancement: Integrated into Adobe Creative Cloud, improving creative processes with AI tools.', 'Ethical AI Development: Committed to responsible AI use, with creators at the center of its design and application.', 'Commercial Use Option: Allows creators to use content generated in Firefly commercially, acknowledging creators' practical needs.']. Use Cases: ['Text to Image Transformation', 'Generative Content Fill', 'Text Effects Application', 'Generative Recoloring'].\"}, {'content': \"Product Name: Fireflies.ai. Description: Fireflies.ai provides tools for recording, transcribing, summarizing, and analyzing voice conversations, streamlining meeting workflows.. Characteristics: ['AI-Powered Search: Quickly filter and find topics within your meetings.', 'Automatic Transcription: Capture and transcribe meetings across various platforms.', 'Conversation Intelligence: Track talk time, sentiment, and custom metrics for enhanced team performance.', 'Workflow Automation: Fireflies.ai logs call notes and tasks in CRM and collaboration tools.']. Use Cases: ['Meeting Transcription', 'Conversation Analysis', 'CRM Integration', 'Team Collaboration'].\"}, {'content': 'FireTexts is an AI-driven app that generates perfect text messages for various situations, offering speed, impact, and customization.'}, {'content': \"Product Name: Fireworks. Description: Fireworks is a Generative AI platform focused on product innovation, offering OSS model deployment, fast inference, low costs, and comprehensive support.. Characteristics: ['Fast Model Inference: Ensures quick and reliable model inference, boosting operational efficiency.', 'OSS Model Support: Provides extensive support for open-source software models, fostering innovation.', 'Cost-Effective Solutions: Offers low-cost options without compromising on quality or speed.', 'Comprehensive Support: Delivers exceptional support for inference, fine-tuning, and OSS LLMs integration.']. Use Cases: ['OSS Model Deployment', 'Inference Speed Boost', 'Cost Reduction', 'Productivity Improvement'].\"}]}\n"
     ]
    }
   ],
   "source": [
    "from rank_gpt import create_permutation_instruction, run_llm, receive_permutation\n",
    "\n",
    "item[\"query\"] = \"image generation for ecommerce\"\n",
    "\n",
    "    \n",
    "rank_start = 0\n",
    "rank_end = 3\n",
    "# (1) Create permutation generation instruction\n",
    "start_time = time.time()\n",
    "messages = create_permutation_instruction(\n",
    "    item=item, rank_start=rank_start, rank_end=rank_end, model_name=\"gpt-3.5-turbo\"\n",
    ")\n",
    "print(\"===messages===\\n\", messages)\n",
    "\n",
    "# (2) Get ChatGPT predicted permutation\n",
    "permutation = run_llm(messages, api_key=openai_api_key, model_name=\"gpt-3.5-turbo\")\n",
    "print(\"===permutation===\\n\", permutation)\n",
    "\n",
    "# (3) Use permutation to re-rank the passage\n",
    "item = receive_permutation(item, permutation, rank_start=rank_start, rank_end=rank_end)\n",
    "print(\"===item===\\n\", item)"
   ]
  }
 ],
 "metadata": {
  "kernelspec": {
   "display_name": "pytorch",
   "language": "python",
   "name": "python3"
  },
  "language_info": {
   "codemirror_mode": {
    "name": "ipython",
    "version": 3
   },
   "file_extension": ".py",
   "mimetype": "text/x-python",
   "name": "python",
   "nbconvert_exporter": "python",
   "pygments_lexer": "ipython3",
   "version": "3.9.18"
  }
 },
 "nbformat": 4,
 "nbformat_minor": 2
}
